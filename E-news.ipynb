{
 "cells": [
  {
   "cell_type": "markdown",
   "id": "7368f6fb-608c-465d-9116-4620bce626f8",
   "metadata": {},
   "source": [
    "### Problem Definition and Questions to be Answered\r\n",
    "\r\n",
    "#### Problem Definition\r\n",
    "E-news Express, an online news portal, is experiencing a decline in new monthly subscribers compared to the previous year. The executives believe that the current webpage is not engaging enough to convert visitors into subscribers. To address this issue, a new landing page with an improved outline and more relevant content has been designed. The effectiveness of the new landing page needs to be evaluated to determine if it improves user engagement and subscription rates.\r\n",
    "\r\n",
    "#### Questions to be Answered\r\n",
    "1. Do users spend more time on the new landing page than on the existing landing page?\r\n",
    "2. Is the conversion rate (the proportion of users who visit the landing page and subscribe) higher for the new page compared to the old page?\r\n",
    "3. Does the conversion status depend on the preferred language of the user?\r\n",
    "4. Is the mean time spent on the new page the same for users preferring different languages?\r\n",
    "\r\n",
    "### Data Background and Contents\r\n",
    "\r\n",
    "#### Data Dictionary\r\n",
    "The dataset contains information about user interactions with two versions of the landing page (new and old). It includes the following variables:\r\n",
    "- `user_id`: Unique identifier for each user.\r\n",
    "- `group`: Indicates whether the user was in the control group (existing landing page) or the treatment group (new landing page).\r\n",
    "- `landing_page`: Specifies whether the landing page was new or old.\r\n",
    "- `time_spent_on_the_page`: Time (in minutes) spent by the user on the landing page.\r\n",
    "- `converted`: Indicates whether the user subscribed to the news portal (yes or no).\r\n",
    "- `language_preferred`: Language chosen by the user to vions regarding the effectiveness of the new landing page in increasing user engagement and conversion rates."
   ]
  },
  {
   "cell_type": "markdown",
   "id": "4ea1d416-e0ea-47d4-b902-cf5d9fa6103f",
   "metadata": {},
   "source": [
    "**Importing necessary libraries**"
   ]
  },
  {
   "cell_type": "code",
   "execution_count": 2,
   "id": "82ac0365-5deb-470d-a6c8-bcff38995222",
   "metadata": {},
   "outputs": [],
   "source": [
    "#Importing numpy libaries as np\n",
    "import numpy as np\n",
    "#Importing pandas libaries as pd\n",
    "import pandas as pd\n",
    "#Importing seaborn libaries as sns\n",
    "import seaborn as sns\n",
    "#Importing the graphical plots libaries that will be requied for EDA\n",
    "import matplotlib.pyplot as plt\n",
    "%matplotlib inline"
   ]
  },
  {
   "cell_type": "code",
   "execution_count": 3,
   "id": "5c630d79-95e1-487b-b67d-60a0fd8382f7",
   "metadata": {},
   "outputs": [],
   "source": [
    "#Reading the experiment csv file with the help of pandas\n",
    "df=pd.read_csv('abtest.csv')"
   ]
  },
  {
   "cell_type": "code",
   "execution_count": 4,
   "id": "be250ef5-3f28-42bd-b663-8a01e9914a03",
   "metadata": {},
   "outputs": [
    {
     "data": {
      "text/html": [
       "<div>\n",
       "<style scoped>\n",
       "    .dataframe tbody tr th:only-of-type {\n",
       "        vertical-align: middle;\n",
       "    }\n",
       "\n",
       "    .dataframe tbody tr th {\n",
       "        vertical-align: top;\n",
       "    }\n",
       "\n",
       "    .dataframe thead th {\n",
       "        text-align: right;\n",
       "    }\n",
       "</style>\n",
       "<table border=\"1\" class=\"dataframe\">\n",
       "  <thead>\n",
       "    <tr style=\"text-align: right;\">\n",
       "      <th></th>\n",
       "      <th>user_id</th>\n",
       "      <th>group</th>\n",
       "      <th>landing_page</th>\n",
       "      <th>time_spent_on_the_page</th>\n",
       "      <th>converted</th>\n",
       "      <th>language_preferred</th>\n",
       "    </tr>\n",
       "  </thead>\n",
       "  <tbody>\n",
       "    <tr>\n",
       "      <th>0</th>\n",
       "      <td>546592</td>\n",
       "      <td>control</td>\n",
       "      <td>old</td>\n",
       "      <td>3.48</td>\n",
       "      <td>no</td>\n",
       "      <td>Spanish</td>\n",
       "    </tr>\n",
       "    <tr>\n",
       "      <th>1</th>\n",
       "      <td>546468</td>\n",
       "      <td>treatment</td>\n",
       "      <td>new</td>\n",
       "      <td>7.13</td>\n",
       "      <td>yes</td>\n",
       "      <td>English</td>\n",
       "    </tr>\n",
       "    <tr>\n",
       "      <th>2</th>\n",
       "      <td>546462</td>\n",
       "      <td>treatment</td>\n",
       "      <td>new</td>\n",
       "      <td>4.40</td>\n",
       "      <td>no</td>\n",
       "      <td>Spanish</td>\n",
       "    </tr>\n",
       "    <tr>\n",
       "      <th>3</th>\n",
       "      <td>546567</td>\n",
       "      <td>control</td>\n",
       "      <td>old</td>\n",
       "      <td>3.02</td>\n",
       "      <td>no</td>\n",
       "      <td>French</td>\n",
       "    </tr>\n",
       "    <tr>\n",
       "      <th>4</th>\n",
       "      <td>546459</td>\n",
       "      <td>treatment</td>\n",
       "      <td>new</td>\n",
       "      <td>4.75</td>\n",
       "      <td>yes</td>\n",
       "      <td>Spanish</td>\n",
       "    </tr>\n",
       "  </tbody>\n",
       "</table>\n",
       "</div>"
      ],
      "text/plain": [
       "   user_id      group landing_page  time_spent_on_the_page converted  \\\n",
       "0   546592    control          old                    3.48        no   \n",
       "1   546468  treatment          new                    7.13       yes   \n",
       "2   546462  treatment          new                    4.40        no   \n",
       "3   546567    control          old                    3.02        no   \n",
       "4   546459  treatment          new                    4.75       yes   \n",
       "\n",
       "  language_preferred  \n",
       "0            Spanish  \n",
       "1            English  \n",
       "2            Spanish  \n",
       "3             French  \n",
       "4            Spanish  "
      ]
     },
     "execution_count": 4,
     "metadata": {},
     "output_type": "execute_result"
    }
   ],
   "source": [
    "#Checking that the file is loaded successfully by seeing the first few rows and columns\n",
    "df.head()"
   ]
  },
  {
   "cell_type": "code",
   "execution_count": 5,
   "id": "5d36f54a-bf52-45dd-98c6-39307d57a4cd",
   "metadata": {},
   "outputs": [
    {
     "data": {
      "text/plain": [
       "(100, 6)"
      ]
     },
     "execution_count": 5,
     "metadata": {},
     "output_type": "execute_result"
    }
   ],
   "source": [
    "#Checking the numbers of rows and columns that the csv file contails\n",
    "df.shape"
   ]
  },
  {
   "cell_type": "code",
   "execution_count": 6,
   "id": "d6070a96-d0ba-4445-9b19-8d93bc1955eb",
   "metadata": {},
   "outputs": [
    {
     "name": "stdout",
     "output_type": "stream",
     "text": [
      "<class 'pandas.core.frame.DataFrame'>\n",
      "RangeIndex: 100 entries, 0 to 99\n",
      "Data columns (total 6 columns):\n",
      " #   Column                  Non-Null Count  Dtype  \n",
      "---  ------                  --------------  -----  \n",
      " 0   user_id                 100 non-null    int64  \n",
      " 1   group                   100 non-null    object \n",
      " 2   landing_page            100 non-null    object \n",
      " 3   time_spent_on_the_page  100 non-null    float64\n",
      " 4   converted               100 non-null    object \n",
      " 5   language_preferred      100 non-null    object \n",
      "dtypes: float64(1), int64(1), object(4)\n",
      "memory usage: 4.8+ KB\n"
     ]
    }
   ],
   "source": [
    "#Checking the Datatypes\n",
    "df.info()"
   ]
  },
  {
   "cell_type": "code",
   "execution_count": 7,
   "id": "160d4bb3-4a01-4089-910a-2c83ebe96da7",
   "metadata": {},
   "outputs": [
    {
     "data": {
      "text/plain": [
       "array(['no', 'yes'], dtype=object)"
      ]
     },
     "execution_count": 7,
     "metadata": {},
     "output_type": "execute_result"
    }
   ],
   "source": [
    "df['converted'].unique()"
   ]
  },
  {
   "cell_type": "code",
   "execution_count": 8,
   "id": "cfa19ef8-397e-4402-b7db-0bf2da84b0a4",
   "metadata": {},
   "outputs": [],
   "source": [
    "# Converting/Maping 'yes'/'no' to 1/0\n",
    "df['converted'] = df['converted'].map({'yes': 1, 'no': 0, 'Yes': 1, 'No': 0})"
   ]
  },
  {
   "cell_type": "code",
   "execution_count": 9,
   "id": "a048ac3f-dd83-4fb6-869e-428db02ede17",
   "metadata": {},
   "outputs": [
    {
     "data": {
      "text/plain": [
       "array([0, 1], dtype=int64)"
      ]
     },
     "execution_count": 9,
     "metadata": {},
     "output_type": "execute_result"
    }
   ],
   "source": [
    "df['converted'].unique()"
   ]
  },
  {
   "cell_type": "markdown",
   "id": "19dcb1a1-9c72-4bf3-9aca-e5342f9bd07d",
   "metadata": {},
   "source": [
    "### Univariate Analysis\n",
    "**Objective: Analyze each variable individually using summary statistics and visualizations.**"
   ]
  },
  {
   "cell_type": "code",
   "execution_count": 10,
   "id": "18e2e135-bd08-481f-86ce-231885ccbea4",
   "metadata": {},
   "outputs": [
    {
     "data": {
      "text/html": [
       "<div>\n",
       "<style scoped>\n",
       "    .dataframe tbody tr th:only-of-type {\n",
       "        vertical-align: middle;\n",
       "    }\n",
       "\n",
       "    .dataframe tbody tr th {\n",
       "        vertical-align: top;\n",
       "    }\n",
       "\n",
       "    .dataframe thead th {\n",
       "        text-align: right;\n",
       "    }\n",
       "</style>\n",
       "<table border=\"1\" class=\"dataframe\">\n",
       "  <thead>\n",
       "    <tr style=\"text-align: right;\">\n",
       "      <th></th>\n",
       "      <th>user_id</th>\n",
       "      <th>time_spent_on_the_page</th>\n",
       "      <th>converted</th>\n",
       "    </tr>\n",
       "  </thead>\n",
       "  <tbody>\n",
       "    <tr>\n",
       "      <th>count</th>\n",
       "      <td>100.000000</td>\n",
       "      <td>100.000000</td>\n",
       "      <td>100.000000</td>\n",
       "    </tr>\n",
       "    <tr>\n",
       "      <th>mean</th>\n",
       "      <td>546517.000000</td>\n",
       "      <td>5.377800</td>\n",
       "      <td>0.540000</td>\n",
       "    </tr>\n",
       "    <tr>\n",
       "      <th>std</th>\n",
       "      <td>52.295779</td>\n",
       "      <td>2.378166</td>\n",
       "      <td>0.500908</td>\n",
       "    </tr>\n",
       "    <tr>\n",
       "      <th>min</th>\n",
       "      <td>546443.000000</td>\n",
       "      <td>0.190000</td>\n",
       "      <td>0.000000</td>\n",
       "    </tr>\n",
       "    <tr>\n",
       "      <th>25%</th>\n",
       "      <td>546467.750000</td>\n",
       "      <td>3.880000</td>\n",
       "      <td>0.000000</td>\n",
       "    </tr>\n",
       "    <tr>\n",
       "      <th>50%</th>\n",
       "      <td>546492.500000</td>\n",
       "      <td>5.415000</td>\n",
       "      <td>1.000000</td>\n",
       "    </tr>\n",
       "    <tr>\n",
       "      <th>75%</th>\n",
       "      <td>546567.250000</td>\n",
       "      <td>7.022500</td>\n",
       "      <td>1.000000</td>\n",
       "    </tr>\n",
       "    <tr>\n",
       "      <th>max</th>\n",
       "      <td>546592.000000</td>\n",
       "      <td>10.710000</td>\n",
       "      <td>1.000000</td>\n",
       "    </tr>\n",
       "  </tbody>\n",
       "</table>\n",
       "</div>"
      ],
      "text/plain": [
       "             user_id  time_spent_on_the_page   converted\n",
       "count     100.000000              100.000000  100.000000\n",
       "mean   546517.000000                5.377800    0.540000\n",
       "std        52.295779                2.378166    0.500908\n",
       "min    546443.000000                0.190000    0.000000\n",
       "25%    546467.750000                3.880000    0.000000\n",
       "50%    546492.500000                5.415000    1.000000\n",
       "75%    546567.250000                7.022500    1.000000\n",
       "max    546592.000000               10.710000    1.000000"
      ]
     },
     "execution_count": 10,
     "metadata": {},
     "output_type": "execute_result"
    }
   ],
   "source": [
    "# Summary Statistics\n",
    "df.describe()"
   ]
  },
  {
   "cell_type": "markdown",
   "id": "24622b00-1758-473d-a1be-83909b12841a",
   "metadata": {},
   "source": [
    "1.00      |\r\n",
    "\r\n",
    "### Analysis of Summary Statistics\r\n",
    "\r\n",
    "1. **Count**:\r\n",
    "   - The dataset contains 100 observations for each variable (`user_id`, `time_spent_on_the_page`, `converted`).\r\n",
    "\r\n",
    "2. **Mean**:\r\n",
    "   - The average `user_id` is 546517. This is an identifier and is not used for analysis.\r\n",
    "   - The mean time spent on the page is approximately 5.38 minutes, indicating that users spend an average of about 5.4 minutes on the landing page.\r\n",
    "   - The mean of the `converted` variable is 0.54, which means that 54% of users in the dataset converted (subscribed).\r\n",
    "\r\n",
    "3. **Standard Deviation (std)**:\r\n",
    "   - The standard deviation for `user_id` is 52.30, reflecting the spread of the `user_id` values.\r\n",
    "   - The standard deviation for time spent on the page is 2.38 minutes, indicating that the time users spend on the page varies by about 2.4 minutes from the mean.\r\n",
    "   - The standard deviation for `converted` is 0.50, indicating a high variability in the conversion status (since it's a binary variable).\r\n",
    "\r\n",
    "4. **Minimum (min)**:\r\n",
    "   - The minimum `user_id` is 546443.\r\n",
    "   - The minimum time spent on the page is 0.19 minutes (11.4 seconds), indicating some users spent very little time on the page.\r\n",
    "   - The minimum value for `converted` is 0, indicating some users did not convert.\r\n",
    "\r\n",
    "5. **25th Percentile (25%)**:\r\n",
    "   - 25% of the `user_id` values are below 546467.75.\r\n",
    "   - 25% of the users spent less than 3.88 minutes on the page.\r\n",
    "   - 25% of the users did not convert (0).\r\n",
    "\r\n",
    "6. **Median (50%)**:\r\n",
    "   - The median `user_id` is 546492.50.\r\n",
    "   - The median time spent on the page is 5.42 minutes, indicating that half of the users spent more than 5.42 minutes on the page and half spent less.\r\n",
    "   - The median for `converted` is 1, meaning at least 50% of users converted.\r\n",
    "\r\n",
    "7. **75th Percentile (75%)**:\r\n",
    "   - 75% of the `user_id` values are below 546567.25.\r\n",
    "   - 75% of the users spent less than 7.02 minutes on the page.\r\n",
    "   - 75% of the users converted (1).\r\n",
    "\r\n",
    "8. **Maximum (max)**:\r\n",
    "   - The maximum `user_id` is 546592.\r\n",
    "   - The maximum time spent on the page is 10.71 minutes, indicating that the longest time a user spent on the page is just over 10 minutes.\r\n",
    "   - The maximum value for `converted` is 1, indicating that some users did convert.\r\n",
    "\r\n",
    "### Interpretation\r\n",
    "\r\n",
    "- The distribution of time spent on the page suggests that most users spend between 3.88 and 7.02 minutes on the page, with an average of 5.38 minutes.\r\n",
    "- The conversion rate is relatively high, with 54% of users converting.\r\n",
    "- The data on conversion status is binary (0 or 1), and 50% of users have converted (median value of 1), with 75% of users having a conversion status of 1.\r\n",
    "- The spread in time spent on the page indicates some variability, but most users tend to spend a moderate amount of time on the page.\r\n",
    "\r\n",
    "Overall, these statistics provide a good overview of the dataset and can help inform further analyses, such as understanding the impact of the new landing page on user behavior and conversion rates."
   ]
  },
  {
   "cell_type": "code",
   "execution_count": 11,
   "id": "cd06656a-32b8-4ff4-845c-a7da0e4624f1",
   "metadata": {},
   "outputs": [
    {
     "name": "stderr",
     "output_type": "stream",
     "text": [
      "C:\\Users\\shawa\\anaconda3\\Lib\\site-packages\\seaborn\\_oldcore.py:1119: FutureWarning: use_inf_as_na option is deprecated and will be removed in a future version. Convert inf values to NaN before operating instead.\n",
      "  with pd.option_context('mode.use_inf_as_na', True):\n"
     ]
    },
    {
     "data": {
      "image/png": "[encoded data removed]",
      "text/plain": [
       "<Figure size 1000x600 with 1 Axes>"
      ]
     },
     "metadata": {},
     "output_type": "display_data"
    },
    {
     "data": {
      "image/png": "[encoded data removed]",
      "text/plain": [
       "<Figure size 1000x600 with 1 Axes>"
      ]
     },
     "metadata": {},
     "output_type": "display_data"
    },
    {
     "data": {
      "image/png": "[encoded data removed]",
      "text/plain": [
       "<Figure size 1000x600 with 1 Axes>"
      ]
     },
     "metadata": {},
     "output_type": "display_data"
    }
   ],
   "source": [
    "# Histogram for time spent on the page\n",
    "plt.figure(figsize=(10, 6))\n",
    "sns.histplot(df['time_spent_on_the_page'], kde=True)\n",
    "plt.title('Distribution of Time Spent on the Page')\n",
    "plt.xlabel('Time Spent (minutes)')\n",
    "plt.ylabel('Frequency')\n",
    "plt.show()\n",
    "\n",
    "# Bar chart for conversion status\n",
    "plt.figure(figsize=(10, 6))\n",
    "sns.countplot(x='converted', data=df)\n",
    "plt.title('Conversion Status Count')\n",
    "plt.xlabel('Converted')\n",
    "plt.ylabel('Count')\n",
    "plt.show()\n",
    "\n",
    "# Bar chart for preferred language\n",
    "plt.figure(figsize=(10, 6))\n",
    "sns.countplot(x='language_preferred', data=df)\n",
    "plt.title('Preferred Language Count')\n",
    "plt.xlabel('Language Preferred')\n",
    "plt.ylabel('Count')\n",
    "plt.show()"
   ]
  },
  {
   "cell_type": "markdown",
   "id": "0c8c6b9a-06b4-4eda-88ee-5cb2f47991f7",
   "metadata": {},
   "source": [
    "### Observation\r\n",
    "\r\n",
    "#### Distribution of Time Spent on the Page\r\n",
    "\r\n",
    "The histogram shows the distribution of time spent on the page by users. Key observations include:\r\n",
    "\r\n",
    "- The time spent ranges from 0 to 10 minutes.\r\n",
    "- The distribution appears roughly normal, with the peak around 5-6 minutes.\r\n",
    "- The distribution is fairly symmetrical, suggesting that most users spend an average amount of time on the page, with fewer users spending very little or very much time.\r\n",
    "\r\n",
    "#### Conversion Status Count\r\n",
    "\r\n",
    "The bar plot represents the conversion status count of users. Key observations include:\r\n",
    "\r\n",
    "- There are more users who have converted (become subscribers) compared to those who have not converted.\r\n",
    "- This indicates a positive trend where the majority of the users are being converted to subscribers.\r\n",
    "\r\n",
    "#### Preferred Language Count\r\n",
    "\r\n",
    "The bar plot shows the count of users based on their preferred language. Key observations include:\r\n",
    "\r\n",
    "- The number of users is almost evenly distributed across the three languages: Spanish, English, and French.\r\n",
    "- This balanced distribution ensures that the results of our analysis are not biased towards any partihelp in sustaining and improving these positive outcomes.language group.ime.language group.language group."
   ]
  },
  {
   "cell_type": "markdown",
   "id": "3aced299-1c8a-4ced-a4d0-e5d887611ce6",
   "metadata": {},
   "source": [
    "### Bivariate Analysis\n",
    "\n",
    "**Objective: Explore relationships between pairs of variables using visualizations.**"
   ]
  },
  {
   "cell_type": "code",
   "execution_count": 12,
   "id": "95cb528b-45d8-4316-b78c-6defaf8c4918",
   "metadata": {},
   "outputs": [
    {
     "data": {
      "image/png": "[encoded data removed]",
      "text/plain": [
       "<Figure size 640x480 with 1 Axes>"
      ]
     },
     "metadata": {},
     "output_type": "display_data"
    },
    {
     "data": {
      "image/png": "[encoded data removed]",
      "text/plain": [
       "<Figure size 1000x600 with 1 Axes>"
      ]
     },
     "metadata": {},
     "output_type": "display_data"
    },
    {
     "data": {
      "image/png": "[encoded data removed]",
      "text/plain": [
       "<Figure size 1000x600 with 1 Axes>"
      ]
     },
     "metadata": {},
     "output_type": "display_data"
    }
   ],
   "source": [
    "# Box plot for time spent by landing page\n",
    "sns.boxplot(x='landing_page', y='time_spent_on_the_page', data=df)\n",
    "plt.title('Time Spent on Page by Landing Page')\n",
    "plt.xlabel('Landing Page')\n",
    "plt.ylabel('Time Spent (minutes)')\n",
    "plt.show()\n",
    "\n",
    "# Bar chart for conversion rate by landing page\n",
    "plt.figure(figsize=(10, 6))\n",
    "sns.barplot(x='landing_page', y='converted', data=df, estimator=lambda x: sum(x)/len(x))\n",
    "plt.title('Conversion Rate by Landing Page')\n",
    "plt.xlabel('Landing Page')\n",
    "plt.ylabel('Conversion Rate')\n",
    "plt.show()\n",
    "\n",
    "# Bar chart for conversion rate by preferred language\n",
    "plt.figure(figsize=(10, 6))\n",
    "sns.barplot(x='language_preferred', y='converted', data=df, estimator=lambda x: sum(x)/len(x))\n",
    "plt.title('Conversion Rate by Preferred Language')\n",
    "plt.xlabel('Language Preferred')\n",
    "plt.ylabel('Conversion Rate')\n",
    "plt.show()\n"
   ]
  },
  {
   "cell_type": "markdown",
   "id": "a9877bd7-5a8a-40cb-840a-c63507605890",
   "metadata": {},
   "source": [
    "### Analysis of Visualizations\n",
    "\n",
    "#### 1. Time Spent on Page by Landing Page (Boxplot)\n",
    "\n",
    "**Observation:**\n",
    "- **Old Landing Page:**\n",
    "  - Median time spent is around 4.5 minutes.\n",
    "  - The interquartile range (IQR) spans from approximately 3 to 6 minutes.\n",
    "  - There are outliers above 10 minutes.\n",
    "  - The whiskers extend from 0 to about 10.5 minutes.\n",
    "\n",
    "- **New Landing Page:**\n",
    "  - Median time spent is around 5.5 minutes.\n",
    "  - The IQR spans from approximately 4.5 to 6.5 minutes.\n",
    "  - There are outliers below 2 minutes and above 8 minutes.\n",
    "  - The whiskers extend from about 2.5 to 8.5 minutes.\n",
    "\n",
    "**Analysis:**\n",
    "- Users tend to spend slightly more time on the new landing page compared to the old one.\n",
    "- The new landing page has a tighter distribution of time spent, indicating more consistent engagement.\n",
    "- The old landing page has a wider range of time spent, suggesting more varied user experiences.\n",
    "- Outliers on both pages indicate some users spent significantly more or less time than typical, which could warrant further investigation into these user behaviors.\n",
    "\n",
    "#### 2. Conversion Rate by Landing Page (Bar Plot)\n",
    "\n",
    "**Observation:**\n",
    "- The old landing page has a conversion rate of approximately 40%.\n",
    "- The new landing page has a conversion rate of approximately 60%.\n",
    "\n",
    "**Analysis:**\n",
    "- The new landing page has a higher conversion rate compared to the old one.\n",
    "- This suggests that the new landing page is more effective at converting visitors into customers or achieving the desired action.\n",
    "- The error bars indicate the variability in conversion rates, but the difference between the two landing pages is substantial enough to suggest a real improvement.\n",
    "\n",
    "#### 3. Conversion Rate by Preferred Language (Bar Plot)\n",
    "\n",
    "**Observation:**\n",
    "- **Spanish:**\n",
    "  - Conversion rate is approximately 50%.\n",
    "  - Moderate variability as indicated by the error bars.\n",
    "\n",
    "- **English:**\n",
    "  - Conversion rate is approximately 60%.\n",
    "  - Some variability, but overall the highest conversion rate among the languages.\n",
    "\n",
    "- **French:**\n",
    "  - Conversion rate is approximately 40%.\n",
    "  - The least conversion rate among the three languages with noticeable variability.\n",
    "\n",
    "**Analysis:**\n",
    "- Users who prefer English have the highest conversion rate, suggesting that the website might be more effectively optimized or user-friendly for English-speaking users.\n",
    "- Spanish-speaking users have a moderate conversion rate, indicating that the website performs fairly well for this group but could be improved.\n",
    "- French-speaking users have the lowest conversion rate, which could indicate issues with the French version of the landing page or a need for better targeting or optimization for this audience.\n",
    "- The variability within each language group suggests that user experiences may differ within each language group, potentially pointing to opportunities for more granular improvements."
   ]
  },
  {
   "cell_type": "markdown",
   "id": "41abfa8c-92cf-4d30-b53d-4bbd47213307",
   "metadata": {},
   "source": [
    "**Investigateing Outliers**"
   ]
  },
  {
   "cell_type": "code",
   "execution_count": 18,
   "id": "c0391865-d28f-4c62-990c-79ac2a795910",
   "metadata": {},
   "outputs": [
    {
     "name": "stdout",
     "output_type": "stream",
     "text": [
      "Empty DataFrame\n",
      "Columns: [user_id, group, landing_page, time_spent_on_the_page, converted, language_preferred]\n",
      "Index: []\n",
      "Original Data Description:\n",
      "count    100.000000\n",
      "mean       5.377800\n",
      "std        2.378166\n",
      "min        0.190000\n",
      "25%        3.880000\n",
      "50%        5.415000\n",
      "75%        7.022500\n",
      "max       10.710000\n",
      "Name: time_spent_on_the_page, dtype: float64\n",
      "\n",
      "Data without Outliers Description:\n",
      "count    100.000000\n",
      "mean       5.377800\n",
      "std        2.378166\n",
      "min        0.190000\n",
      "25%        3.880000\n",
      "50%        5.415000\n",
      "75%        7.022500\n",
      "max       10.710000\n",
      "Name: time_spent_on_the_page, dtype: float64\n"
     ]
    },
    {
     "data": {
      "image/png": "[encoded data removed]",
      "text/plain": [
       "<Figure size 1200x600 with 2 Axes>"
      ]
     },
     "metadata": {},
     "output_type": "display_data"
    }
   ],
   "source": [
    "# Identify Outliers using IQR\n",
    "Q1 = df['time_spent_on_the_page'].quantile(0.25)\n",
    "Q3 = df['time_spent_on_the_page'].quantile(0.75)\n",
    "IQR = Q3 - Q1\n",
    "\n",
    "lower_bound = Q1 - 1.5 * IQR\n",
    "upper_bound = Q3 + 1.5 * IQR\n",
    "\n",
    "outliers = df[(df['time_spent_on_the_page'] < lower_bound) | (df['time_spent_on_the_page'] > upper_bound)]\n",
    "\n",
    "# SUnderstand the Context and Examine the Characteristics\n",
    "print(outliers)\n",
    "\n",
    "# Check for Errors\n",
    "# (Manual step, review the data collection process, and data entry methods)\n",
    "\n",
    "# Assess Impact\n",
    "# Statistical comparison before and after removing outliers\n",
    "\n",
    "# Data without outliers\n",
    "df_no_outliers = df[(df['time_spent_on_the_page'] >= lower_bound) & (df['time_spent_on_the_page'] <= upper_bound)]\n",
    "\n",
    "# Comparison of descriptive statistics\n",
    "print(\"Original Data Description:\")\n",
    "print(df['time_spent_on_the_page'].describe())\n",
    "\n",
    "print(\"\\nData without Outliers Description:\")\n",
    "print(df_no_outliers['time_spent_on_the_page'].describe())\n",
    "\n",
    "# Decision on Treatment\n",
    "# Visualize to see the impact\n",
    "plt.figure(figsize=(12, 6))\n",
    "plt.subplot(1, 2, 1)\n",
    "sns.boxplot(df['time_spent_on_the_page'])\n",
    "plt.title('Original Data')\n",
    "\n",
    "plt.subplot(1, 2, 2)\n",
    "sns.boxplot(df_no_outliers['time_spent_on_the_page'])\n",
    "plt.title('Data without Outliers')\n",
    "\n",
    "plt.show()"
   ]
  },
  {
   "cell_type": "markdown",
   "id": "3cf794a5-8f80-40c8-a7c3-e8113f73f425",
   "metadata": {},
   "source": [
    "**Conclusion**\n",
    "\n",
    "Since removing the outliers does not change the descriptive statistics, it is safe to keep them in your dataset. These outliers are likely not influencing your analysis significantly and represent legitimate user behavior.\n",
    "\n",
    "Current analysis supports the decision to retain the outliers. This ensures that your dataset remains comprehensive and reflective of the actual user behavior, providing more robust and generalizable insights."
   ]
  },
  {
   "cell_type": "markdown",
   "id": "7d0b7855-f37d-444d-8a37-6c0974b1d7c3",
   "metadata": {},
   "source": [
    "**Statistical Analysis**\n",
    "\n",
    "**We'll address each of the questions listed in the project description using appropriate statistical tests. The questions are:**\n",
    "\n",
    "1. Do users spend more time on the new landing page than on the existing landing page?\n",
    "2. Is the conversion rate (the proportion of users who visit the landing page and get converted) for the new page greater than the conversion rate for the old page?\n",
    "3. Does the converted status depend on the preferred language?\n",
    "4. Is the time spent on the new page the same for different language users?"
   ]
  },
  {
   "cell_type": "markdown",
   "id": "0ee21fd0-a641-4fee-adc8-5b5a0497d17b",
   "metadata": {},
   "source": [
    "#### Q1 (t-test for comparing means).\n",
    "\n",
    "**Hypotheses:**\n",
    "\n",
    "Null Hypothesis: The mean time spent on the new landing page is equal to the mean time spent on the existing landing page.\n",
    "\r\n",
    "Alternative Hypothesis: The mean time spent on the new landing page is greater than the mean time spent on the existing landing page."
   ]
  },
  {
   "cell_type": "code",
   "execution_count": 14,
   "id": "426b77a0-3826-44a7-850b-6fa02e78e907",
   "metadata": {},
   "outputs": [
    {
     "name": "stdout",
     "output_type": "stream",
     "text": [
      "T-statistic: 3.7867702694199856\n",
      "P-value: 0.0001316123528095005\n",
      "Reject the null hypothesis: Users spend more time on the new landing page.\n"
     ]
    }
   ],
   "source": [
    "#Importing the scipy.stats libary for the statistical analysis.\n",
    "import scipy.stats as stats\n",
    "\n",
    "# Separate the data into control and treatment groups\n",
    "control_group = df[df['group'] == 'control']['time_spent_on_the_page']\n",
    "treatment_group = df[df['group'] == 'treatment']['time_spent_on_the_page']\n",
    "\n",
    "# Perform an independent t-test\n",
    "t_stat, p_value = stats.ttest_ind(treatment_group, control_group, alternative='greater')\n",
    "\n",
    "print(\"T-statistic:\", t_stat)\n",
    "print(\"P-value:\", p_value)\n",
    "\n",
    "# Determine the result at a significance level of 5%\n",
    "alpha = 0.05\n",
    "if p_value < alpha:\n",
    "    print(\"Reject the null hypothesis: Users spend more time on the new landing page.\")\n",
    "else:\n",
    "    print(\"Fail to reject the null hypothesis: No significant difference in time spent on the new and old landing pages.\")"
   ]
  },
  {
   "cell_type": "markdown",
   "id": "06d60297-5e4d-4f58-8beb-7b45427ed278",
   "metadata": {},
   "source": [
    "### Q2 (z-test for proportions).\n",
    "\n",
    "Hypotheses:\n",
    "\n",
    "Null Hypothesis: The conversion rate for the new landing page is equal to or less than the conversion rate for the old landing page.\n",
    "\n",
    "Alternative Hypothesis: The conversion rate for the new landing page is greater than the conversion rate for the old landing page."
   ]
  },
  {
   "cell_type": "code",
   "execution_count": 15,
   "id": "08db6fbc-a726-4cef-b566-48adfe375a22",
   "metadata": {},
   "outputs": [
    {
     "name": "stdout",
     "output_type": "stream",
     "text": [
      "Z-score: 2.4806946917841692\n",
      "P-value: 0.0065563316325779495\n",
      "Reject the null hypothesis: The conversion rate for the new page is greater than for the old page.\n"
     ]
    }
   ],
   "source": [
    "import numpy as np\n",
    "\n",
    "# Calculate conversion rates\n",
    "conversion_control = df[df['group'] == 'control']['converted'].mean()\n",
    "conversion_treatment = df[df['group'] == 'treatment']['converted'].mean()\n",
    "\n",
    "# Calculate the sample sizes\n",
    "n_control = df[df['group'] == 'control'].shape[0]\n",
    "n_treatment = df[df['group'] == 'treatment'].shape[0]\n",
    "\n",
    "# Calculate the standard error for the difference in proportions\n",
    "std_err = np.sqrt((conversion_control * (1 - conversion_control) / n_control) + \n",
    "                  (conversion_treatment * (1 - conversion_treatment) / n_treatment))\n",
    "\n",
    "# Calculate the z-score\n",
    "z_score = (conversion_treatment - conversion_control) / std_err\n",
    "\n",
    "# Calculate the p-value\n",
    "p_value = stats.norm.sf(z_score)  # one-tailed test\n",
    "\n",
    "print(\"Z-score:\", z_score)\n",
    "print(\"P-value:\", p_value)\n",
    "\n",
    "# Determine the result at a significance level of 5%\n",
    "alpha = 0.05\n",
    "if p_value < alpha:\n",
    "    print(\"Reject the null hypothesis: The conversion rate for the new page is greater than for the old page.\")\n",
    "else:\n",
    "    print(\"Fail to reject the null hypothesis: No significant difference in conversion rates between the new and old pages.\")"
   ]
  },
  {
   "cell_type": "markdown",
   "id": "22ba5465-7d7b-4764-9106-7fc0896d3f39",
   "metadata": {},
   "source": [
    "### Q3 (chi-square test of independence).\n",
    "\n",
    "Hypotheses:\n",
    "\n",
    "Null Hypothesis: The converted status is independent of the preferred language.\n",
    "\n",
    "Alternative Hypothesis: The converted status is dependent on the preferred language."
   ]
  },
  {
   "cell_type": "code",
   "execution_count": 16,
   "id": "68365bd5-1bab-4e7d-a415-ce454be96ea4",
   "metadata": {},
   "outputs": [
    {
     "name": "stdout",
     "output_type": "stream",
     "text": [
      "Chi-square statistic: 3.0930306905370832\n",
      "P-value: 0.2129888748754345\n",
      "Fail to reject the null hypothesis: Converted status does not depend on the preferred language.\n"
     ]
    }
   ],
   "source": [
    "# Create a contingency table\n",
    "contingency_table = pd.crosstab(df['language_preferred'], df['converted'])\n",
    "\n",
    "# Perform chi-square test of independence\n",
    "chi2_stat, p_value, dof, expected = stats.chi2_contingency(contingency_table)\n",
    "\n",
    "print(\"Chi-square statistic:\", chi2_stat)\n",
    "print(\"P-value:\", p_value)\n",
    "\n",
    "# Determine the result at a significance level of 5%\n",
    "alpha = 0.05\n",
    "if p_value < alpha:\n",
    "    print(\"Reject the null hypothesis: Converted status depends on the preferred language.\")\n",
    "else:\n",
    "    print(\"Fail to reject the null hypothesis: Converted status does not depend on the preferred language.\")"
   ]
  },
  {
   "cell_type": "markdown",
   "id": "209117c4-8b6f-4f41-b657-86b0f614ccbd",
   "metadata": {},
   "source": [
    "### Q4 (ANOVA).\n",
    "\n",
    "Hypotheses:\r\n",
    "\r\n",
    "Null Hypothesis: The mean time spent on the new page is the same for different language users.\r\n",
    "\r\n",
    "Alternative Hypothesis: The mean time spent on the new page is different for different language users.ge users."
   ]
  },
  {
   "cell_type": "code",
   "execution_count": 17,
   "id": "a1882cf4-9087-4d7e-893b-37f9f282a84a",
   "metadata": {},
   "outputs": [
    {
     "name": "stdout",
     "output_type": "stream",
     "text": [
      "F-statistic: 0.8543992770006822\n",
      "P-value: 0.43204138694325955\n",
      "Fail to reject the null hypothesis: No significant difference in time spent on the new page among different language users.\n"
     ]
    }
   ],
   "source": [
    "# Filter data for the treatment group only\n",
    "new_page_data = df[df['landing_page'] == 'new']\n",
    "\n",
    "# Perform one-way ANOVA\n",
    "f_stat, p_value = stats.f_oneway(\n",
    "    new_page_data[new_page_data['language_preferred'] == 'English']['time_spent_on_the_page'],\n",
    "    new_page_data[new_page_data['language_preferred'] == 'French']['time_spent_on_the_page'],\n",
    "    new_page_data[new_page_data['language_preferred'] == 'Spanish']['time_spent_on_the_page']\n",
    ")\n",
    "\n",
    "print(\"F-statistic:\", f_stat)\n",
    "print(\"P-value:\", p_value)\n",
    "\n",
    "# Determine the result at a significance level of 5%\n",
    "alpha = 0.05\n",
    "if p_value < alpha:\n",
    "    print(\"Reject the null hypothesis: Time spent on the new page differs for different language users.\")\n",
    "else:\n",
    "    print(\"Fail to reject the null hypothesis: No significant difference in time spent on the new page among different language users.\")\n"
   ]
  },
  {
   "cell_type": "markdown",
   "id": "7e9fd2e3-3a6a-4e06-b9f0-60c4d51f3b08",
   "metadata": {},
   "source": [
    "### Summary of Statistical Analysis and Insights\r\n",
    "\r\n",
    "**Question 1: Do users spend more time on the new landing page than on the existing landing page?**\r\n",
    "- **T-statistic:** 3.787\r\n",
    "- **P-value:** 0.00013\r\n",
    "- **Conclusion:** Reject the null hypothesis.\r\n",
    "- **Inference:** Users spend significantly more time on the new landing page compared to the old landing page. This suggests that the new design is more engaging, potentially capturing users' attention for longer periods.\r\n",
    "\r\n",
    "**Question 2: Is the conversion rate for the new page greater than the conversion rate for the old page?**\r\n",
    "- **Z-score:** 2.481\r\n",
    "- **P-value:** 0.0066\r\n",
    "- **Conclusion:** Reject the null hypothesis.\r\n",
    "- **Inference:** The conversion rate for the new landing page is significantly greater than the conversion rate for the old landing page. This indicates that the new design is more effective in converting visitors into subscribers.\r\n",
    "\r\n",
    "**Question 3: Does the converted status depend on the preferred language?**\r\n",
    "- **Chi-square statistic:** 3.093\r\n",
    "- **P-value:** 0.213\r\n",
    "- **Conclusion:** Fail to reject the null hypothesis.\r\n",
    "- **Inference:** There is no significant relationship between the converted status and the preferred language of the users. This means that the likelihood of a user converting does not depend on the language they prefer for viewing the landing page.\r\n",
    "\r\n",
    "**Question 4: Is the time spent on the new page the same for different language users?**\r\n",
    "- **F-statistic:** 0.854\r\n",
    "- **P-value:** 0.432\r\n",
    "- **Conclusion:** Fail to reject the null hypothesis.\r\n",
    "- **Inference:** There is no significant difference in the time spent on the new landing page among users of different language preferences. This suggests that the new design is equally engaging across users who prefer different languages."
   ]
  },
  {
   "cell_type": "markdown",
   "id": "d7dc0430-119d-40bd-ab8f-4a258bc6afbb",
   "metadata": {},
   "source": [
    "### Conclusion\r\n",
    "\r\n",
    "The statistical analysis reveals that the new landing page performs better than the old one in terms of user engagement and conversion rates:\r\n",
    "\r\n",
    "1. **User Engagement:** Users spend significantly more time on the new landing page compared to the old one, indicating that the new design is more engaging.\r\n",
    "2. **Conversion Rates:** The conversion rate for the new landing page is significantly higher than that of the old landing page, suggesting that the new design is more effective in converting visitors into subscribers.\r\n",
    "3. **Language Preference Impact:** The preferred language of users does not significantly impact whether they convert, indicating that the effectiveness of the landing page is consistent across different language preferences.\r\n",
    "4. **Time Spent by Language Users:** There is no significant difference in the time spent on the new landing page among users of different language preferences, suggesting that the new design engages users equally well regardless of their preferred language."
   ]
  },
  {
   "cell_type": "markdown",
   "id": "a87bd735-71d8-4635-aef8-bc20b202dd8b",
   "metadata": {},
   "source": [
    "### Business Recommendations\r\n",
    "\r\n",
    "Based on the univariate and bivariate analyses conducted, several actionable business recommendations can be made to further optimize user engagement and conversion rates:\r\n",
    "\r\n",
    "1. **Adopt the New Landing Page Design:**\r\n",
    "   - **Recommendation:** Given the significant increase in time spent and conversion rates associated with the new landing page, it is recommended to fully transition to this new design.\r\n",
    "   - **Rationale:** The new design has demonstrated its effectiveness in engaging users for longer periods and converting them at higher rates, directly contributing to business goals.\r\n",
    "\r\n",
    "2. **Targeted Marketing Strategies:**\r\n",
    "   - **Recommendation:** Continue to monitor user engagement and conversion rates across different demographic segments to tailor marketing strategies effectively.\r\n",
    "   - **Rationale:** Understanding the specific preferences and behaviors of different user segments can help in crafting targeted campaigns that further enhance engagement and conversions.\r\n",
    "\r\n",
    "3. **Language-Specific Content Optimization:**\r\n",
    "   - **Recommendation:** While the new landing page performs well across different language preferences, consider optimizing content within the landing page to further cater to the nuances of each language group.\r\n",
    "   - **Rationale:** Although there was no significant difference in conversion rates by language preference, subtle adjustments in language-specific content can still improve user experience and satisfaction.\r\n",
    "\r\n",
    "4. **Enhanced User Engagement Features:**\r\n",
    "   - **Recommendation:** Incorporate interactive elements and personalized content within the new landing page to maintain and potentially increase the time users spend on the page.\r\n",
    "   - **Rationale:** Interactive features such as quizzes, videos, and personalized recommendations can enhance user engagement, leading to even higher retention and conversion rates.\r\n",
    "\r\n",
    "5. **Continuous A/B Testing:**\r\n",
    "   - **Recommendation:** Implement a continuous A/B testing strategy to evaluate new design elements, features, and content changes on the landing page.\r\n",
    "   - **Rationale:** Regular A/B testing allows for data-driven decisions to further optimize the landing page, ensuring it remains effective in engaging users and driving conversions over time.\r\n",
    "\r\n",
    "6. **Monitor and Analyze Outliers:**\r\n",
    "   - **Recommendation:** Keep an eye on outliers in user behavior data to identify any unusual patterns or potential areas for improvement.\r\n",
    "   - **Rationale:** Outliers can sometimes indicate issues or opportunities that are not apparent from aggregate data, such as technical problems or niche user needsr for outliers and analyze them for insights.\r\n",
    "\r\n",
    "By following these recommendations, the business can leverage the insights from the univariate and bivariate analyses to drive user engagement and conversion rates, ultimately leading to improved business performance."
   ]
  },
  {
   "cell_type": "code",
   "execution_count": null,
   "id": "414ec40b-d9ab-489c-9e69-4865831193b4",
   "metadata": {},
   "outputs": [],
   "source": []
  }
 ],
 "metadata": {
  "kernelspec": {
   "display_name": "Python 3 (ipykernel)",
   "language": "python",
   "name": "python3"
  },
  "language_info": {
   "codemirror_mode": {
    "name": "ipython",
    "version": 3
   },
   "file_extension": ".py",
   "mimetype": "text/x-python",
   "name": "python",
   "nbconvert_exporter": "python",
   "pygments_lexer": "ipython3",
   "version": "3.11.10"
  }
 },
 "nbformat": 4,
 "nbformat_minor": 5
}
